{
 "cells": [
  {
   "cell_type": "code",
   "execution_count": 0,
   "metadata": {
    "application/vnd.databricks.v1+cell": {
     "cellMetadata": {},
     "inputWidgets": {},
     "nuid": "35ea0216-2efd-4e7e-ae5f-216fd2216ba6",
     "showTitle": false,
     "tableResultSettingsMap": {},
     "title": ""
    }
   },
   "outputs": [],
   "source": [
    "# Cleaning the data that is fetches from teh API"
   ]
  },
  {
   "cell_type": "code",
   "execution_count": 0,
   "metadata": {
    "application/vnd.databricks.v1+cell": {
     "cellMetadata": {
      "byteLimit": 2048000,
      "implicitDf": true,
      "rowLimit": 10000
     },
     "inputWidgets": {},
     "nuid": "ff56339b-8b79-450b-a5fc-3b6a11b324f8",
     "showTitle": false,
     "tableResultSettingsMap": {},
     "title": ""
    }
   },
   "outputs": [],
   "source": [
    "%sql\n",
    "SELECT * FROM csv.`dbfs:/public/moviesproject/top250movies.csv`"
   ]
  },
  {
   "cell_type": "code",
   "execution_count": 0,
   "metadata": {
    "application/vnd.databricks.v1+cell": {
     "cellMetadata": {
      "byteLimit": 2048000,
      "rowLimit": 10000
     },
     "inputWidgets": {},
     "nuid": "7e9d2099-ad5e-40dd-a9db-94b3a773b8c1",
     "showTitle": false,
     "tableResultSettingsMap": {},
     "title": ""
    }
   },
   "outputs": [],
   "source": [
    "top250movies=spark.read.csv('dbfs:/public/moviesproject/top250movies.csv',inferSchema=True,header=True)"
   ]
  },
  {
   "cell_type": "code",
   "execution_count": 0,
   "metadata": {
    "application/vnd.databricks.v1+cell": {
     "cellMetadata": {
      "byteLimit": 2048000,
      "rowLimit": 10000
     },
     "inputWidgets": {},
     "nuid": "fe1bc3d0-9c0c-40ad-bffd-a97dc0a3370f",
     "showTitle": false,
     "tableResultSettingsMap": {},
     "title": ""
    }
   },
   "outputs": [],
   "source": [
    "top250movies = top250movies.withColumn(\"startYear\", top250movies[\"startYear\"].cast(\"int\"))\\\n",
    "    .withColumn(\"endYear\", top250movies[\"endYear\"].cast(\"int\"))\\\n",
    "    .withColumn(\"releaseDate\", top250movies[\"releaseDate\"].cast(\"date\"))\\\n",
    "    .withColumn(\"budget\", top250movies[\"budget\"].cast(\"int\"))\\\n",
    "    .withColumn(\"grossWorldwide\", top250movies[\"grossWorldwide\"].cast(\"int\"))\\\n",
    "    .withColumn(\"averageRating\", top250movies[\"averageRating\"].cast(\"float\"))\\\n",
    "    .withColumn(\"numVotes\", top250movies[\"numVotes\"].cast(\"int\"))\\\n",
    "    .withColumn(\"runtimeMinutes\", top250movies[\"runtimeMinutes\"].cast(\"int\"))"
   ]
  },
  {
   "cell_type": "code",
   "execution_count": 0,
   "metadata": {
    "application/vnd.databricks.v1+cell": {
     "cellMetadata": {
      "byteLimit": 2048000,
      "rowLimit": 10000
     },
     "inputWidgets": {},
     "nuid": "c8725ff9-7554-431f-9388-a26e3bcc5b82",
     "showTitle": false,
     "tableResultSettingsMap": {},
     "title": ""
    }
   },
   "outputs": [],
   "source": [
    "from pyspark.sql.types import StructType,StructField,StringType,IntegerType,ArrayType\n",
    "interests_schema=ArrayType(StringType())\n",
    "externallinks_schema=ArrayType(StringType())\n",
    "langugages_schema=ArrayType(StringType())\n",
    "countries_schema=ArrayType(StringType())\n",
    "genres_schema=ArrayType(StringType())\n",
    "production_schema=ArrayType(StructType([StructField(\"name\",StringType()),StructField(\"id\",StringType())]))"
   ]
  },
  {
   "cell_type": "code",
   "execution_count": 0,
   "metadata": {
    "application/vnd.databricks.v1+cell": {
     "cellMetadata": {
      "byteLimit": 2048000,
      "rowLimit": 10000
     },
     "inputWidgets": {},
     "nuid": "5a9a43b9-64cd-4176-959e-561188163ac4",
     "showTitle": false,
     "tableResultSettingsMap": {},
     "title": ""
    }
   },
   "outputs": [],
   "source": [
    "%python\n",
    "from pyspark.sql.functions import col, explode_outer, from_json\n",
    "df = top250movies.withColumn(\"interests\", from_json(col(\"interests\"), interests_schema)) \\\n",
    "    .withColumn(\"externalLinks\", from_json(col(\"externalLinks\"), externallinks_schema)) \\\n",
    "    .withColumn(\"spokenLanguages\", from_json(col(\"spokenLanguages\"), langugages_schema)) \\\n",
    "    .withColumn(\"countriesOfOrigin\", from_json(col(\"countriesOfOrigin\"), countries_schema)) \\\n",
    "    .withColumn(\"genres\", from_json(col(\"genres\"), genres_schema)) \\\n",
    "    .withColumn(\"productionCompanies\", from_json(col(\"productionCompanies\"), production_schema))"
   ]
  },
  {
   "cell_type": "code",
   "execution_count": 0,
   "metadata": {
    "application/vnd.databricks.v1+cell": {
     "cellMetadata": {
      "byteLimit": 2048000,
      "implicitDf": true,
      "rowLimit": 10000
     },
     "inputWidgets": {},
     "nuid": "54aba6df-1e19-45f4-87cd-abfc7a9c9d2f",
     "showTitle": false,
     "tableResultSettingsMap": {},
     "title": ""
    }
   },
   "outputs": [],
   "source": [
    "%sql\n",
    "create database if not exists movies_project"
   ]
  },
  {
   "cell_type": "code",
   "execution_count": 0,
   "metadata": {
    "application/vnd.databricks.v1+cell": {
     "cellMetadata": {
      "byteLimit": 2048000,
      "implicitDf": true,
      "rowLimit": 10000
     },
     "inputWidgets": {},
     "nuid": "1cbb532c-6e8e-42e9-ac72-0bb8446a14de",
     "showTitle": false,
     "tableResultSettingsMap": {},
     "title": ""
    }
   },
   "outputs": [],
   "source": [
    "%sql\n",
    "use database movies_project"
   ]
  },
  {
   "cell_type": "code",
   "execution_count": 0,
   "metadata": {
    "application/vnd.databricks.v1+cell": {
     "cellMetadata": {
      "byteLimit": 2048000,
      "rowLimit": 10000
     },
     "inputWidgets": {},
     "nuid": "0eb2ddfe-4ad9-4ea3-9e89-00cd90cb267e",
     "showTitle": false,
     "tableResultSettingsMap": {},
     "title": ""
    }
   },
   "outputs": [],
   "source": [
    "top250movies=df.select(\"id\",\"url\",\"primaryTitle\",\"originalTitle\",\"type\",\"description\",\"primaryImage\",\"contentRating\",\"startYear\",\"endYear\",\"releaseDate\",\"filmingLocations\",\"budget\",\"grossWorldwide\",\"isAdult\",\"runtimeMinutes\",\"averageRating\",\"numVotes\")\n",
    "top250movies.write.mode(\"overwrite\").saveAsTable(\"top250movies\")\n",
    "top250movies\n",
    "interests_df=df.select(\n",
    "    col(\"id\").alias(\"movie_id\"),\n",
    "    explode_outer(col(\"interests\")).alias(\"interests\")\n",
    ")\n",
    "interests_df.write.mode(\"overwrite\").saveAsTable(\"interests\")\n",
    "externallinks_df=df.select(\n",
    "    col(\"id\").alias(\"movie_id\"),\n",
    "    explode_outer(col(\"externalLinks\")).alias(\"externalLinks\")\n",
    ")\n",
    "externallinks_df.write.mode(\"overwrite\").saveAsTable(\"externallinks\")\n",
    "langugages_df=df.select(\n",
    "    col(\"id\").alias(\"movie_id\"),\n",
    "    explode_outer(col(\"spokenLanguages\")).alias(\"spokenLanguages\")\n",
    ")\n",
    "langugages_df.write.mode(\"overwrite\").saveAsTable(\"langugages\")\n",
    "countries_df=df.select(\n",
    "    col(\"id\").alias(\"movie_id\"),\n",
    "    explode_outer(col(\"countriesOfOrigin\")).alias(\"countriesOfOrigin\")\n",
    ")\n",
    "countries_df.write.mode(\"overwrite\").saveAsTable(\"countries\")\n",
    "genres_df=df.select(\n",
    "    col(\"id\").alias(\"movie_id\"),\n",
    "    explode_outer(col(\"genres\")).alias(\"genres\")\n",
    ")\n",
    "genres_df.write.mode(\"overwrite\").saveAsTable(\"genres\")\n",
    "productionCompanies_df=df.select(\n",
    "    col(\"id\").alias(\"movie_id\"),\n",
    "    explode_outer(col(\"productionCompanies\")).alias(\"productionCompanies\")).select(col(\"movie_id\"),col(\"productionCompanies.name\").alias(\"name\"),col(\"productionCompanies.id\").alias(\"company_id\"))\n",
    "productionCompanies_df.write.mode(\"overwrite\").option(\"mergeSchema\", \"true\").saveAsTable(\"productionCompanies\")"
   ]
  },
  {
   "cell_type": "code",
   "execution_count": 0,
   "metadata": {
    "application/vnd.databricks.v1+cell": {
     "cellMetadata": {
      "byteLimit": 2048000,
      "implicitDf": true,
      "rowLimit": 10000
     },
     "inputWidgets": {},
     "nuid": "42cb6246-845e-48eb-adec-b50795b3cf8e",
     "showTitle": false,
     "tableResultSettingsMap": {},
     "title": ""
    }
   },
   "outputs": [],
   "source": [
    "%sql\n",
    "describe formatted top250movies"
   ]
  },
  {
   "cell_type": "code",
   "execution_count": 0,
   "metadata": {
    "application/vnd.databricks.v1+cell": {
     "cellMetadata": {},
     "inputWidgets": {},
     "nuid": "8bca372a-2b5f-4fb5-a1f5-d77c37990fda",
     "showTitle": false,
     "tableResultSettingsMap": {},
     "title": ""
    }
   },
   "outputs": [],
   "source": []
  }
 ],
 "metadata": {
  "application/vnd.databricks.v1+notebook": {
   "computePreferences": null,
   "dashboards": [],
   "environmentMetadata": {
    "base_environment": "",
    "environment_version": "2"
   },
   "language": "python",
   "notebookMetadata": {
    "mostRecentlyExecutedCommandWithImplicitDF": {
     "commandId": 8917474867927147,
     "dataframes": [
      "_sqldf"
     ]
    },
    "pythonIndentUnit": 4
   },
   "notebookName": "(Clone) CleaningData",
   "widgets": {}
  },
  "language_info": {
   "name": "python"
  }
 },
 "nbformat": 4,
 "nbformat_minor": 0
}
